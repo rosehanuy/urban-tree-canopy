{
 "cells": [
  {
   "cell_type": "code",
   "execution_count": null,
   "metadata": {},
   "outputs": [],
   "source": [
    "from pygris import counties\n",
    "import geopandas as gpd\n",
    "import matplotlib.pyplot as plt\n",
    "from pathlib import Path\n",
    "\n",
    "root = Path.cwd()"
   ]
  },
  {
   "cell_type": "code",
   "execution_count": null,
   "metadata": {},
   "outputs": [],
   "source": [
    "def get_county_boundary(state_name,county_name,target_crs):\n",
    "    state_counties = counties(state=state_name,cb=True)\n",
    "    county = state_counties.loc[state_counties['NAME']==county_name]\n",
    "    return county.to_crs(target_crs)\n",
    "\n",
    "def save_file(file, name):\n",
    "    file.to_file(root / 'data' / name / f'{name}_boundary.gpkg')\n",
    "    print(f'saved to {root} / data / {name} / {name}_boundary.gpkg')"
   ]
  },
  {
   "cell_type": "code",
   "execution_count": null,
   "metadata": {},
   "outputs": [],
   "source": [
    "fairfield = get_county_boundary('CT','Fairfield',26918)\n",
    "\n",
    "norfolk = get_county_boundary('MA','Norfolk',26919)\n",
    "\n",
    "arundel = get_county_boundary('MD','Anne Arundel',26918)"
   ]
  }
 ],
 "metadata": {
  "kernelspec": {
   "display_name": "utc-pipenv",
   "language": "python",
   "name": "python3"
  },
  "language_info": {
   "codemirror_mode": {
    "name": "ipython",
    "version": 3
   },
   "file_extension": ".py",
   "mimetype": "text/x-python",
   "name": "python",
   "nbconvert_exporter": "python",
   "pygments_lexer": "ipython3",
   "version": "3.12.6"
  }
 },
 "nbformat": 4,
 "nbformat_minor": 2
}
