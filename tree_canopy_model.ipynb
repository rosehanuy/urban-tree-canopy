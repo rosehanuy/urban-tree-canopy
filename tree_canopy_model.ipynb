{
 "cells": [
  {
   "cell_type": "markdown",
   "metadata": {},
   "source": [
    "This notebook shows how to deploy a pre-trained tree canopy model on new data and how to train a new model. "
   ]
  },
  {
   "cell_type": "code",
   "execution_count": 1,
   "metadata": {},
   "outputs": [],
   "source": [
    "\n",
    "from pathlib import Path\n",
    "root = Path.cwd()\n",
    "\n",
    "from src.model import SiteData, CanopyModeler, CanopyPredictions, NoGtCanopyPredictions"
   ]
  },
  {
   "cell_type": "markdown",
   "metadata": {},
   "source": [
    "### Predict tree canopy using a pre-trained model"
   ]
  },
  {
   "cell_type": "markdown",
   "metadata": {},
   "source": [
    "Create a `SiteData` object for the site you want to predict tree canopy for. Pass in the site_name (which is the name of the folder where all relevant data is stored). Set `tc=False` because there is no ground truth tree canopy associated with this site. "
   ]
  },
  {
   "cell_type": "code",
   "execution_count": null,
   "metadata": {},
   "outputs": [],
   "source": [
    "nyc23 = SiteData(root, 'nyc23',epsg=26918, tc=False)"
   ]
  },
  {
   "cell_type": "markdown",
   "metadata": {},
   "source": [
    "Create a `CanopyModeler` object with the following arguments:  \n",
    "* `train_site`: set to None as we'll be using a pre-trained model.  \n",
    "* `test_site_list`: It's possible to predict tree canopy for multiple sites at once. In this case, we are only predicting one site. However, it should still be passed as a single-element list.  "
   ]
  },
  {
   "cell_type": "code",
   "execution_count": null,
   "metadata": {},
   "outputs": [],
   "source": [
    "modeler = CanopyModeler(root=root,train_site=None,test_site_list=[nyc23])"
   ]
  },
  {
   "cell_type": "markdown",
   "metadata": {},
   "source": [
    "Now we can call `.run_tree_canopy_model()` to deploy a pre-trained model on our nyc 2023 data, using the following arguments:\n",
    "* `local_results`: set to `False`, because we are not predicting tree canopy for the same data the model was trained on.\n",
    "* `transfer_results`: set to `True`, because we do want to predict tree canopy for our test site(s)\n",
    "* `model_filename`: the name of the model you want to use, saved as a .pkl to the 'models' folder. \n",
    "* `load_saved`: must be set to `True` in order to use the pre-trained model."
   ]
  },
  {
   "cell_type": "code",
   "execution_count": null,
   "metadata": {},
   "outputs": [],
   "source": [
    "nyc23_preds = modeler.run_tree_canopy_model(local_results=False,transfer_results=True,model_filename='2017_model',load_saved=True)"
   ]
  },
  {
   "cell_type": "markdown",
   "metadata": {},
   "source": [
    "The output of `run_tree_canopy_model(`)` is a dictionary containing the keys 'local' and 'transfer'. In this case, the 'local' entry is empty because we did not predict local results. \n",
    "\n",
    "The results will be either a `CanopyPrediction` object (when ground truth tree canopy is available, allowing us to calculate RMSE etc.) or a `NoGtCanopyPrediction` object (when no ground truth tree canopy data is available).\n",
    "\n",
    "To access the results for the site we just predicted:"
   ]
  },
  {
   "cell_type": "code",
   "execution_count": null,
   "metadata": {},
   "outputs": [],
   "source": [
    "results = nyc23_preds['transfer']['nyc23']"
   ]
  },
  {
   "cell_type": "markdown",
   "metadata": {},
   "source": [
    "Save the result object to an npz file.  \n",
    "It will be saved to output/site_name/results_for_{site_name}\\_from_{train_site_name}_model.npz'"
   ]
  },
  {
   "cell_type": "code",
   "execution_count": null,
   "metadata": {},
   "outputs": [],
   "source": [
    "results.to_npz()"
   ]
  },
  {
   "cell_type": "markdown",
   "metadata": {},
   "source": [
    "### Train a new model and predict tree canopy for the same year and different years"
   ]
  },
  {
   "cell_type": "markdown",
   "metadata": {},
   "source": [
    "This time, we will use data from 2017 to train a new model and then test it by predicting tree canopy for 2017 and 2021.  \n",
    "\n",
    "Create SiteData objects for both years of data. In this case, both have ground truth tree canopy available for testing, so tc is set to True."
   ]
  },
  {
   "cell_type": "code",
   "execution_count": 2,
   "metadata": {},
   "outputs": [],
   "source": [
    "nyc17 = SiteData(root, 'nyc17',26918, tc=True)\n",
    "nyc21 = SiteData(root, 'nyc21',26918, tc=True)"
   ]
  },
  {
   "cell_type": "markdown",
   "metadata": {},
   "source": [
    "Create a `CanopyModeler` object with `train_site` and `test_site_list` set to the respective sites. Here, we are training the model on data from 2017 and testing on 2021."
   ]
  },
  {
   "cell_type": "code",
   "execution_count": 3,
   "metadata": {},
   "outputs": [],
   "source": [
    "modeler = CanopyModeler(root=root,train_site=nyc17,test_site_list=[nyc21])"
   ]
  },
  {
   "cell_type": "markdown",
   "metadata": {},
   "source": [
    "Now call `run_tree_canopy_model()` with the following arguments:\n",
    "* `local_results`: set to `True` because we want to predict tree canopy for the same year the model was trained for.\n",
    "* `transfer_results`: also set to `True` because we want to see how the model does on new data.\n",
    "* `model_filename`: this is the name that the newly trained model will be saved under in the models folder. We'll just add the suffix 'v2'. \n",
    "* `load_saved`: set to `False`, because we are not using a pre-trained model. "
   ]
  },
  {
   "cell_type": "code",
   "execution_count": null,
   "metadata": {},
   "outputs": [
    {
     "name": "stdout",
     "output_type": "stream",
     "text": [
      "['april_lst', 'april_tdvi', 'april_ndwi', 'april_brightness', 'april_wetness', 'april_carotenoid_index_1', 'april_lswi', 'april_s2_water_index', 'april_blue', 'april_nir', 'april_rededge2', 'april_sw1', 'april_sw2', 'october_tdvi', 'october_brightness', 'october_wetness', 'october_lswi', 'october_s2_water_index', 'october_blue', 'october_nir', 'october_rededge1', 'springdiff_lst', 'springdiff_tdvi', 'springdiff_ndwi', 'springdiff_brightness', 'springdiff_wetness', 'springdiff_carotenoid_index_1', 'springdiff_chlorophyll_veg_index', 'springdiff_carotenoid_index_2', 'springdiff_anthocyanin_index_2', 'springdiff_s2_water_index', 'springdiff_blue', 'springdiff_nir', 'springdiff_rededge1', 'springdiff_sw1', 'falldiff_tdvi', 'falldiff_ndwi', 'falldiff_brightness', 'falldiff_wetness', 'falldiff_carotenoid_index_1', 'falldiff_chlorophyll_veg_index', 'falldiff_lswi', 'falldiff_chlorophyll_index_red_edge', 'falldiff_carotenoid_index_2', 'falldiff_anthocyanin_index_2', 'falldiff_s2_water_index', 'falldiff_blue', 'falldiff_nir', 'falldiff_sw1']\n",
      "using auto selected features\n",
      "beginning classifier fit\n",
      "beginning regressor fit\n",
      "calculating clf permutation importance\n",
      "calculating rgr permutation importance\n",
      "model fit complete, saved to c:\\Users\\roseh\\OneDrive - Hunter - CUNY\\Documents\\tnc_repo\\nyc_cuny_satellite_canopymonitoring\\2025_contract\\models\\2017_model_v3.pkl\n",
      "predicting nyc21 tree canopy map\n"
     ]
    }
   ],
   "source": [
    "nyc17model = modeler.run_tree_canopy_model(local_results=True,transfer_results=True,model_filename='2017_model_v3',load_saved=False)"
   ]
  },
  {
   "cell_type": "markdown",
   "metadata": {},
   "source": [
    "These additional arguments to `run_tree_canopy_model()` can also be adjusted when training a new model:\n",
    "* `autoselect_variables` (default=True): when True, hierarchical clustering is used to automatically select a subset of the available features for model training based on their correlation to each other and to the response variable.\n",
    "* `manual_variables` (default=False): when True, function expects user to specify which features to use for training.\n",
    "* `vars_to_use` (default=False): if manual_variables is True, a list of feature names as strings e.g. ['april_ndvi', 'october_red'..etc] to be used for training the model.\n",
    "* `var_selection_threshold` (default=0.1): threshold used for automatic variable selection. Range 0 to 2, with lower values allowing more variables to be included. \n",
    "* `frac` (default=0.10): the fraction of all available data to be used to train the model.\n",
    "* `test_size` (default=0.3): the fraction of training data to be held out for testing (i.e. a further subset of frac)\n",
    "* `random_state` (default=42): random state for all processes (splitting data, random forest etc.)"
   ]
  },
  {
   "cell_type": "markdown",
   "metadata": {},
   "source": [
    "Like before, the output of `run_tree_canopy_model` can be accessed and saved as follows. In this case, we have results for both local (same year) and transfer (different year) predictions.\n",
    "\n"
   ]
  },
  {
   "cell_type": "code",
   "execution_count": 2,
   "metadata": {},
   "outputs": [],
   "source": [
    "results_17 = nyc17model['local']\n",
    "results_21 = nyc17model['transfer']['nyc21']\n",
    "\n",
    "# save scores to a file in output called scores.json\n",
    "results_17.save_scores()\n",
    "results_21.save_scores()\n",
    "\n",
    "# save the result objects for future analysis\n",
    "results_17.to_npz()\n",
    "results_21.to_npz()"
   ]
  },
  {
   "cell_type": "markdown",
   "metadata": {},
   "source": [
    "We can also quickly look at model performance by calling `print_model_info()`. (For the 2021 results, 'test set RMSE' is `None` because this was not the training site, ergo there was no test set)"
   ]
  },
  {
   "cell_type": "code",
   "execution_count": 7,
   "metadata": {},
   "outputs": [
    {
     "name": "stdout",
     "output_type": "stream",
     "text": [
      "Site Name: nyc21\n",
      "                        Model: 2017_model_v3\n",
      "                        Overall:\n",
      "                        \tMAE: 9.64\n",
      "                        \tRMSE: 13.48\n",
      "                        \tTest set RMSE: None\n",
      "                        Classifier Metrics:\n",
      "                        \t% correct zero canopy labels: 70.71\n",
      "                        \t% zero canopy pixels found: 66.57\n",
      "                        RMSE by classification: \n",
      "                        \tTP RMSE (correctly predicted canopy): 14.27\n",
      "                        \tTN RMSE (correctly predicted no canopy):   0.00\n",
      "                        \tFP RMSE (predicted canopy, actually none): 16.69\n",
      "                        \tFN RMSE (missed actual canopy):            11.06\n",
      "                    \n",
      "None\n"
     ]
    }
   ],
   "source": [
    "results_21.print_model_info()"
   ]
  }
 ],
 "metadata": {
  "kernelspec": {
   "display_name": "utc-env",
   "language": "python",
   "name": "python3"
  },
  "language_info": {
   "codemirror_mode": {
    "name": "ipython",
    "version": 3
   },
   "file_extension": ".py",
   "mimetype": "text/x-python",
   "name": "python",
   "nbconvert_exporter": "python",
   "pygments_lexer": "ipython3",
   "version": "3.13.2"
  }
 },
 "nbformat": 4,
 "nbformat_minor": 2
}
