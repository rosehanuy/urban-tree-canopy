{
 "cells": [
  {
   "cell_type": "markdown",
   "metadata": {},
   "source": [
    "This notebook acquires and processes Harmonized Landsat/Sentinel (HLS) and Land Surface Temperature (LST) data for input into a predictive model of urban tree canopy. "
   ]
  },
  {
   "cell_type": "code",
   "execution_count": null,
   "metadata": {},
   "outputs": [],
   "source": [
    "from pathlib import Path\n",
    "\n",
    "from osgeo import gdal\n",
    "import earthaccess\n",
    "\n",
    "from src.data_download import Site, DataDownloader, DataProcessor\n",
    "\n"
   ]
  },
  {
   "cell_type": "markdown",
   "metadata": {},
   "source": [
    "First, you need to set up and authenticate an earthaccess account to access data from NASA's EarthData API.  \n",
    "Instructions on how to do this can be found here: https://earthaccess.readthedocs.io/en/stable/quick-start/"
   ]
  },
  {
   "cell_type": "code",
   "execution_count": null,
   "metadata": {},
   "outputs": [],
   "source": [
    "# authenticate account\n",
    "earthaccess.login(strategy='netrc')\n",
    "\n",
    "# set root directory to current working directory\n",
    "root = Path.cwd()\n",
    "\n",
    "# set GDAL configurations used to access LP DAAC Cloud Assets via vsicurl \n",
    "gdal.SetConfigOption('GDAL_HTTP_COOKIEFILE','~/cookies.txt')\n",
    "gdal.SetConfigOption('GDAL_HTTP_COOKIEJAR', '~/cookies.txt')\n",
    "gdal.SetConfigOption('GDAL_DISABLE_READDIR_ON_OPEN','EMPTY_DIR')\n",
    "#gdal.SetConfigOption('CPL_VSIL_CURL_ALLOWED_EXTENSIONS','TIF')\n",
    "gdal.SetConfigOption('GDAL_HTTP_UNSAFESSL', 'YES')\n",
    "gdal.SetConfigOption('GDAL_HTTP_MAX_RETRY', '10')\n",
    "gdal.SetConfigOption('GDAL_HTTP_RETRY_DELAY', '0.5')\n",
    "\n",
    "gdal.SetConfigOption('CPL_VSIL_CURL_ALLOWED_EXTENSIONS','.tif, .tiff')"
   ]
  },
  {
   "cell_type": "markdown",
   "metadata": {},
   "source": [
    "### Downloading Data"
   ]
  },
  {
   "cell_type": "markdown",
   "metadata": {},
   "source": [
    "Initialize a `Site` object for the date of interest. When you do so, a folder at /data/site_name will be created to house the downloaded satellite data. Make sure that 'nyc_boundary.gpkg' is saved to the data folder.\n",
    "\n",
    "In this case, we will create a site object for the year 2023 and called it nyc23."
   ]
  },
  {
   "cell_type": "code",
   "execution_count": null,
   "metadata": {},
   "outputs": [],
   "source": [
    "nyc23 = Site(root=root,site_name='nyc23',epsg=26918)"
   ]
  },
  {
   "cell_type": "markdown",
   "metadata": {},
   "source": [
    "To create our training data, we acquire data from three consecutive years and composite them together. Create a `DataDowloader` object for every year that you want to acquire data from. Pass in the site object and the desired year. "
   ]
  },
  {
   "cell_type": "code",
   "execution_count": null,
   "metadata": {},
   "outputs": [],
   "source": [
    "dl_1 = DataDownloader(nyc23,year='2022')\n",
    "dl_2 = DataDownloader(nyc23,year='2023')\n",
    "dl_3 = DataDownloader(nyc23,year='2024')"
   ]
  },
  {
   "cell_type": "markdown",
   "metadata": {},
   "source": [
    "Calling `download_reflectance_data()` queries NASA's earthdata API and identifies suitable cloud-free images, then masks, scales, and saves all data."
   ]
  },
  {
   "cell_type": "code",
   "execution_count": null,
   "metadata": {},
   "outputs": [],
   "source": [
    "dl_1.download_reflectance_data()\n",
    "dl_2.download_reflectance_data()\n",
    "dl_3.download_reflectance_data()"
   ]
  },
  {
   "cell_type": "markdown",
   "metadata": {},
   "source": [
    "Calling `downlaod_lst_data()` queries Microsoft's Planetary Computer and acquires, masks, scales and saves all suitable LST imagery."
   ]
  },
  {
   "cell_type": "code",
   "execution_count": null,
   "metadata": {},
   "outputs": [],
   "source": [
    "dl_1.download_lst_data()\n",
    "dl_2.download_lst_data()\n",
    "dl_3.download_lst_data()\n",
    "\n"
   ]
  },
  {
   "cell_type": "markdown",
   "metadata": {},
   "source": [
    "The satellite imagery is saved to data/site_name as:  \n",
    "sentinel_data_{year}.nc   \n",
    "landsat_data_{year}.nc   \n",
    "lst_data_{year}.nc  \n",
    "\n",
    "A text file containing the dates of the satellite imagery acquisitions is also saved to data/site_name"
   ]
  },
  {
   "cell_type": "markdown",
   "metadata": {},
   "source": [
    "### Processing Data"
   ]
  },
  {
   "cell_type": "markdown",
   "metadata": {},
   "source": [
    "Tp begin processing the data you just downloaded, initialize a `DataProcessor` object. Pass in the site object and the target year. The data from all the years associated with this site object are collapsed into a single time series. "
   ]
  },
  {
   "cell_type": "code",
   "execution_count": null,
   "metadata": {},
   "outputs": [],
   "source": [
    "p = DataProcessor(nyc23,2023)"
   ]
  },
  {
   "cell_type": "markdown",
   "metadata": {},
   "source": [
    "Imagery acquired at different times can 'jitter' and cause feature misalignment issues, especially when compositing data.   \n",
    "More details here: https://medium.com/sentinel-hub/how-to-co-register-temporal-stacks-of-satellite-images-5167713b3e0b\n",
    "\n",
    "Calling `coregister_bands()` aligns the bands of each satellite to the median red band.\n",
    "  \n",
    "Next, `combine_bands()` creates median monthly composites of all band data from both satellites. The option to add tree canopy (`add_tc`) is set to False because no ground truth is available for this year. \n",
    "\n",
    "`combine_indices()` calculates a series of spectral indices for each satellite, and then creates median monthly composites.\n",
    "\n",
    "The same steps are then applied to the LST data with `combine_lst()` and `coregister_bands()`\n",
    "\n",
    "Processed data are saved to data/site_name/ as:  \n",
    "{site_name}_hls_bands.nc  \n",
    "{site_name}_hls_indices.nc  \n",
    "{site_name}_lst.nc  "
   ]
  },
  {
   "cell_type": "code",
   "execution_count": null,
   "metadata": {},
   "outputs": [],
   "source": [
    "p.coregister_bands(satellite='sentinel',lst=False)\n",
    "p.coregister_bands(satellite='landsat',lst=False)\n",
    "\n",
    "\n",
    "p.combine_bands(add_tc=False)\n",
    "p.combine_indices()\n",
    "\n",
    "\n",
    "p.combine_lst()\n",
    "p.coregister_bands(satellite='none', lst=True)"
   ]
  },
  {
   "cell_type": "markdown",
   "metadata": {},
   "source": [
    "### Processing Data when Lidar-derived ground truth data is available"
   ]
  },
  {
   "cell_type": "markdown",
   "metadata": {},
   "source": [
    "When ground truth data is available, the same process is used with a few alterations. The lidar tree canopy raster should be saved to data/site_name as {site_name}_tree_canopy.tif \n",
    "\n",
    "Initialize a `Site` object and coregister the bands as before. Then, call `align_to_tree_canopy()` to ensure he self-aligned bands are also aligned to the tree canopy raster. "
   ]
  },
  {
   "cell_type": "code",
   "execution_count": null,
   "metadata": {},
   "outputs": [
    {
     "name": "stdout",
     "output_type": "stream",
     "text": [
      "[[ 1.          0.         -0.41707057]\n",
      " [ 0.          1.         -0.32940337]]\n",
      "[[ 1.          0.         -0.46982217]\n",
      " [ 0.          1.         -0.3209806 ]]\n",
      "Aggregating Landsat-only bands...\n",
      "Aggregating Sentinel-only bands...\n",
      "Combining results...\n",
      "calculating shared bands\n",
      "Combining results...\n",
      "[[1.         0.         0.11735997]\n",
      " [0.         1.         0.00302923]]\n"
     ]
    }
   ],
   "source": [
    "nyc17 = Site(root=root,site_name='nyc17',epsg=26918)\n",
    "\n",
    "p = DataProcessor(nyc17,2017)\n",
    "\n",
    "#coregister HLS bands \n",
    "p.coregister_bands(satellite='sentinel',lst=False)\n",
    "p.coregister_bands(satellite='landsat',lst=False)\n",
    "\n",
    "\n",
    "p.align_to_tree_canopy(satellite='sentinel')\n",
    "p.align_to_tree_canopy(satellite='landsat')\n",
    "\n",
    "# create median monthly composites of bands and indices\n",
    "p.combine_bands()\n",
    "p.combine_indices()\n",
    "\n",
    "# composite and align lst data\n",
    "p.combine_lst()\n",
    "p.coregister_bands(satellite='none', lst=True)\n",
    "p.align_to_tree_canopy(satellite='none',lst=True) ## align to the tree canopy raster\n",
    "\n",
    "# this output shows the alignment warp matrix - values should typically be between -1 - 1"
   ]
  }
 ],
 "metadata": {
  "kernelspec": {
   "display_name": "utc2-env",
   "language": "python",
   "name": "python3"
  },
  "language_info": {
   "codemirror_mode": {
    "name": "ipython",
    "version": 3
   },
   "file_extension": ".py",
   "mimetype": "text/x-python",
   "name": "python",
   "nbconvert_exporter": "python",
   "pygments_lexer": "ipython3",
   "version": "3.12.7"
  }
 },
 "nbformat": 4,
 "nbformat_minor": 2
}
